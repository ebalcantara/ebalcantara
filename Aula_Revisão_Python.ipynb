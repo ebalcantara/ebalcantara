{
  "nbformat": 4,
  "nbformat_minor": 0,
  "metadata": {
    "colab": {
      "name": "Aula 1 - Revisão Python.ipynb",
      "provenance": [],
      "toc_visible": true,
      "include_colab_link": true
    },
    "kernelspec": {
      "name": "python3",
      "display_name": "Python 3"
    },
    "language_info": {
      "name": "python"
    }
  },
  "cells": [
    {
      "cell_type": "markdown",
      "metadata": {
        "id": "view-in-github",
        "colab_type": "text"
      },
      "source": [
        "<a href=\"https://colab.research.google.com/github/ebalcantara/ebalcantara/blob/main/Aula_Revis%C3%A3o_Python.ipynb\" target=\"_parent\"><img src=\"https://colab.research.google.com/assets/colab-badge.svg\" alt=\"Open In Colab\"/></a>"
      ]
    },
    {
      "cell_type": "markdown",
      "metadata": {
        "id": "qetEcYE5qPZp"
      },
      "source": [
        "# Revisão de Python\n",
        "* Variáveis\n",
        "* Strings\n",
        "* Operações matemáticas\n",
        "* Operações lógicas\n",
        "* Condicionais\n",
        "* Loops\n",
        "* Estruturas de Dados\n",
        "    * Listas\n",
        "    * Tuplas\n",
        "    * Conjuntos\n",
        "    * Dicionários"
      ]
    },
    {
      "cell_type": "markdown",
      "metadata": {
        "id": "6cA8mt7VqzRO"
      },
      "source": [
        "# Variáveis\n",
        "\n",
        "Representa um valor armazenado na memória. Para criar uma variável usa-se o operador de atribuição `=`. \n",
        "\n",
        "Variáveis não podem começar com números ou simbolos.\n",
        "\n",
        "Existe uma convenção no nome de variáveis totalmente maiúsculas: são consideradas constantes."
      ]
    },
    {
      "cell_type": "code",
      "metadata": {
        "id": "lSWpRNFjmd6X"
      },
      "source": [
        ""
      ],
      "execution_count": null,
      "outputs": []
    },
    {
      "cell_type": "markdown",
      "metadata": {
        "id": "yKvEo_0X56Fo"
      },
      "source": [
        "# Tipos das Variáveis\n",
        "\n",
        "* Inteiro (int): números inteiros\n",
        "* Ponto flutuante (float): números com parte decimal.\n",
        "* Strings (str): cadeias de caracteres (texto)\n",
        "* Booleanos (bool): True/False\n",
        "\n",
        "Podemos saber o tipo de qualquer variável usando o comando type(). O comando type() é útil para saber o tipo retornado por uma função.\n",
        "\n",
        "## Conversão\n",
        "Podemos converter de um tipo para outro usando o comando igual o nome da variável."
      ]
    },
    {
      "cell_type": "code",
      "metadata": {
        "id": "dfx6HiC85zw3"
      },
      "source": [
        ""
      ],
      "execution_count": null,
      "outputs": []
    },
    {
      "cell_type": "markdown",
      "metadata": {
        "id": "YjiE3NZb7zm8"
      },
      "source": [
        "# Strings\n",
        "\n",
        "Strings representam texto. Podem ser declaradas de três formas diferentes:\n",
        "\n",
        "1. Usando aspas simples '\n",
        "2. Usando aspas duplas\n",
        "3. Usando 'aspas triplas'"
      ]
    },
    {
      "cell_type": "code",
      "metadata": {
        "id": "ZgPETeio8JJx"
      },
      "source": [
        ""
      ],
      "execution_count": null,
      "outputs": []
    },
    {
      "cell_type": "markdown",
      "metadata": {
        "id": "xds6XAjg8vx3"
      },
      "source": [
        "## Indexando strings\n",
        "\n",
        "Podemos acessar os elementos individuais de uma string com o operador de indexação []."
      ]
    },
    {
      "cell_type": "code",
      "metadata": {
        "id": "tYII_Mb78QNY"
      },
      "source": [
        ""
      ],
      "execution_count": null,
      "outputs": []
    },
    {
      "cell_type": "markdown",
      "metadata": {
        "id": "VWlhrwb_9jgr"
      },
      "source": [
        "## Usando os operadores de strings\n",
        "\n",
        "* Adição: concatena strings\n",
        "* Multiplicação: replica o valor da string"
      ]
    },
    {
      "cell_type": "code",
      "metadata": {
        "id": "7S9AZny29d6h"
      },
      "source": [
        ""
      ],
      "execution_count": null,
      "outputs": []
    },
    {
      "cell_type": "markdown",
      "metadata": {
        "id": "36WM5QfC95XP"
      },
      "source": [
        "# Operações matemáticas e lógicas\n",
        "\n",
        "Além das 4 operações aritméticas básicas o python possui:\n",
        "\n",
        "* Potenciação: **\n",
        "* Divisão Inteira: //\n",
        "* Resto da divisão: %\n",
        "\n",
        "Ordem de execução\n",
        "* Parênteses\n",
        "* Multiplicação e Divisão\n",
        "* Adição e subtração\n",
        "\n",
        "Operadores lógicos retornam sempre um tipo booleano. \n",
        "* A == B\n",
        "* A != B\n",
        "* A > B e A >= B\n",
        "* A < B e A <= B\n",
        "\n",
        "Podemos combinar mais de uma operação lógica usando as palavras reservadas:\n",
        "\n",
        "* `and`: quando esperamos que os dois operandos sejam verdadeiros\n",
        "* `or`: quando precisamos que apenas um dos operandos seja verdadeiro"
      ]
    },
    {
      "cell_type": "code",
      "source": [
        ""
      ],
      "metadata": {
        "id": "qGyOPfXD67od"
      },
      "execution_count": null,
      "outputs": []
    },
    {
      "cell_type": "markdown",
      "metadata": {
        "id": "Pq7IpbNgA8oP"
      },
      "source": [
        "# Estruturas Condicionais\n",
        "\n",
        "Maneiras de alterar o fluxo de execução de um código dependendo do resultado de operações lógicas.\n",
        "\n",
        "`if (CONDICAO)`:\n",
        "\n",
        "`elif (CONDICAO)`:\n",
        "\n",
        "`else:`"
      ]
    },
    {
      "cell_type": "code",
      "source": [
        ""
      ],
      "metadata": {
        "id": "Oyc4VIb469pn"
      },
      "execution_count": null,
      "outputs": []
    },
    {
      "cell_type": "markdown",
      "metadata": {
        "id": "lQ1YUaZTCJfO"
      },
      "source": [
        "# Loops\n",
        "\n",
        "São estruturas usadas para repetir várias vezes um trecho de código. No python existe duas maneiras de fazer loops:\n",
        "\n",
        "* for\n",
        "* while"
      ]
    },
    {
      "cell_type": "code",
      "source": [
        ""
      ],
      "metadata": {
        "id": "0dJU3PxO6-9K"
      },
      "execution_count": null,
      "outputs": []
    },
    {
      "cell_type": "markdown",
      "metadata": {
        "id": "IKjPv4N4DgPy"
      },
      "source": [
        "# Estruturas de Dados\n",
        "\n",
        "## Listas\n",
        "\n",
        "Armazenam sequências de objetos. \n",
        "\n",
        "Mais informações sobre as estruturas de dados:\n",
        "https://www.w3schools.com/python/python_sets_methods.asp"
      ]
    },
    {
      "cell_type": "code",
      "source": [
        ""
      ],
      "metadata": {
        "id": "dvwL1r4Q7AWD"
      },
      "execution_count": null,
      "outputs": []
    },
    {
      "cell_type": "markdown",
      "metadata": {
        "id": "VmNXUP2sGIx0"
      },
      "source": [
        "# Tuplas\n",
        "\n",
        "São estruturas de dados imutáveis. As tuplas são criadas utilizando ()"
      ]
    },
    {
      "cell_type": "code",
      "source": [
        ""
      ],
      "metadata": {
        "id": "ssIX9I6i7EPM"
      },
      "execution_count": null,
      "outputs": []
    },
    {
      "cell_type": "markdown",
      "metadata": {
        "id": "NJ2GrTl-G6iV"
      },
      "source": [
        "# Conjuntos\n",
        "\n",
        "Os elementos de um conjunto não se repetem. Declaramos usando {}"
      ]
    },
    {
      "cell_type": "code",
      "source": [
        ""
      ],
      "metadata": {
        "id": "mT6F2p227WG9"
      },
      "execution_count": null,
      "outputs": []
    },
    {
      "cell_type": "markdown",
      "metadata": {
        "id": "2Qu7LyslH8Be"
      },
      "source": [
        "# Dicionário\n",
        "\n",
        "É uma estrutura que associa uma chave a um valor. Declaramos dicionário usando {}."
      ]
    },
    {
      "cell_type": "code",
      "source": [
        ""
      ],
      "metadata": {
        "id": "0N2D4W1T7YOq"
      },
      "execution_count": null,
      "outputs": []
    }
  ]
}